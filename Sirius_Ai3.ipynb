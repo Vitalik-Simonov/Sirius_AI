{
  "nbformat": 4,
  "nbformat_minor": 0,
  "metadata": {
    "colab": {
      "provenance": []
    },
    "kernelspec": {
      "name": "python3",
      "display_name": "Python 3"
    },
    "language_info": {
      "name": "python"
    }
  },
  "cells": [
    {
      "cell_type": "code",
      "execution_count": 1,
      "metadata": {
        "id": "ft08ctI1MME-"
      },
      "outputs": [],
      "source": [
        "import pandas as pd"
      ]
    },
    {
      "cell_type": "code",
      "source": [
        "!pip install pymorphy2"
      ],
      "metadata": {
        "id": "prujSS47Nec3",
        "colab": {
          "base_uri": "https://localhost:8080/"
        },
        "outputId": "050cf441-9a99-4ea1-bb52-a54c9e29af17"
      },
      "execution_count": 2,
      "outputs": [
        {
          "output_type": "stream",
          "name": "stdout",
          "text": [
            "Installing collected packages: pymorphy2-dicts-ru, docopt, dawg-python, pymorphy2\n",
            "Successfully installed dawg-python-0.7.2 docopt-0.6.2 pymorphy2-0.9.1 pymorphy2-dicts-ru-2.4.417127.4579844\n"
          ]
        }
      ]
    },
    {
      "cell_type": "code",
      "source": [
        "!pip install fuzzywuzzy"
      ],
      "metadata": {
        "id": "GmrvC9osrD8g",
        "colab": {
          "base_uri": "https://localhost:8080/"
        },
        "outputId": "dac32622-549e-413c-ceaa-f2f39c4b9a40"
      },
      "execution_count": 3,
      "outputs": [
        {
          "output_type": "stream",
          "name": "stdout",
          "text": [
            "Collecting fuzzywuzzy\n",
            "  Downloading fuzzywuzzy-0.18.0-py2.py3-none-any.whl (18 kB)\n",
            "Installing collected packages: fuzzywuzzy\n",
            "Successfully installed fuzzywuzzy-0.18.0\n"
          ]
        }
      ]
    },
    {
      "cell_type": "code",
      "source": [
        "import pymorphy2\n",
        "from fuzzywuzzy import fuzz"
      ],
      "metadata": {
        "id": "0sph7nGKrH45",
        "colab": {
          "base_uri": "https://localhost:8080/"
        },
        "outputId": "f67d4165-01c8-422d-aa04-6bd24cf65534"
      },
      "execution_count": 4,
      "outputs": [
        {
          "output_type": "stream",
          "name": "stderr",
          "text": [
            "/usr/local/lib/python3.10/dist-packages/fuzzywuzzy/fuzz.py:11: UserWarning: Using slow pure-python SequenceMatcher. Install python-Levenshtein to remove this warning\n",
            "  warnings.warn('Using slow pure-python SequenceMatcher. Install python-Levenshtein to remove this warning')\n"
          ]
        }
      ]
    },
    {
      "cell_type": "code",
      "source": [
        "df = pd.read_csv('медицинские_протоколы.csv', sep=';')"
      ],
      "metadata": {
        "id": "YnOv3opBNtsK"
      },
      "execution_count": 5,
      "outputs": []
    },
    {
      "cell_type": "code",
      "source": [
        "df.columns"
      ],
      "metadata": {
        "colab": {
          "base_uri": "https://localhost:8080/"
        },
        "id": "p2S0j5orQv6Y",
        "outputId": "73332c5b-69f5-4cfb-9659-c73605c724f4"
      },
      "execution_count": 6,
      "outputs": [
        {
          "output_type": "execute_result",
          "data": {
            "text/plain": [
              "Index(['MedicalRecordKey', 'MedicalRecordDate', 'PatientKey', 'Возраст', 'Пол',\n",
              "       'СпециальностьВрача', 'Жалобы', 'ПеренесенныеЗаболевания',\n",
              "       'ПеренесенныеОперации', 'ПринимаемыеПрепараты'],\n",
              "      dtype='object')"
            ]
          },
          "metadata": {},
          "execution_count": 6
        }
      ]
    },
    {
      "cell_type": "code",
      "source": [
        "df.isna().sum()"
      ],
      "metadata": {
        "colab": {
          "base_uri": "https://localhost:8080/"
        },
        "id": "pbRLmo3hQ3A9",
        "outputId": "1671f351-f8c4-480e-f95d-0bd779619702"
      },
      "execution_count": 7,
      "outputs": [
        {
          "output_type": "execute_result",
          "data": {
            "text/plain": [
              "MedicalRecordKey              0\n",
              "MedicalRecordDate             0\n",
              "PatientKey                    0\n",
              "Возраст                       0\n",
              "Пол                           1\n",
              "СпециальностьВрача            0\n",
              "Жалобы                        0\n",
              "ПеренесенныеЗаболевания     348\n",
              "ПеренесенныеОперации       3180\n",
              "ПринимаемыеПрепараты       5794\n",
              "dtype: int64"
            ]
          },
          "metadata": {},
          "execution_count": 7
        }
      ]
    },
    {
      "cell_type": "code",
      "source": [
        "df['Пол'] = df['Пол'].fillna(df['Пол'].value_counts().keys()[0])"
      ],
      "metadata": {
        "id": "Ab34KG79T_4l"
      },
      "execution_count": 8,
      "outputs": []
    },
    {
      "cell_type": "code",
      "source": [
        "import pickle"
      ],
      "metadata": {
        "id": "hv5yQCHhwJIV"
      },
      "execution_count": 17,
      "outputs": []
    },
    {
      "cell_type": "code",
      "source": [
        "with open('jalobs.pkl', 'rb') as f:\n",
        "    jalobs = pickle.load(f)"
      ],
      "metadata": {
        "id": "noWE75HbweTF"
      },
      "execution_count": 18,
      "outputs": []
    },
    {
      "cell_type": "code",
      "source": [
        "jal = []\n",
        "for i in jalobs[::-1][:15]:\n",
        "  jal.append(list(i[1])[0])"
      ],
      "metadata": {
        "id": "n5VVTANMuB77"
      },
      "execution_count": 20,
      "outputs": []
    },
    {
      "cell_type": "code",
      "source": [
        "jal"
      ],
      "metadata": {
        "id": "2NGa_8h3zGyv",
        "colab": {
          "base_uri": "https://localhost:8080/"
        },
        "outputId": "ea435073-bf09-4765-aea3-4ba1306e2e6c"
      },
      "execution_count": 21,
      "outputs": [
        {
          "output_type": "execute_result",
          "data": {
            "text/plain": [
              "['сонливость',\n",
              " 'нет.',\n",
              " 'на момент осмотра активных жалоб не предъявляет',\n",
              " 'заложенность в нем.',\n",
              " 'на   момент  осмотра   нет.',\n",
              " 'першение и боль  в горле.',\n",
              " 'утомляемость .',\n",
              " 'жалоб нет.',\n",
              " 'на умеренную хр.боль в правом плечевом суставе',\n",
              " 'на момент осмотра не предьявляет',\n",
              " 'жалобы на ощущение тревоги',\n",
              " 'дискомфорт в верхних отделах живота',\n",
              " 'периодическое подкашливание',\n",
              " 'усиливается при ротации',\n",
              " 'ощущение комка в горле']"
            ]
          },
          "metadata": {},
          "execution_count": 21
        }
      ]
    },
    {
      "cell_type": "code",
      "source": [
        "jalobs[-2][0] + jalobs[-3][0] + jalobs[-5][0] + jalobs[-8][0] + jalobs[-10][0] > jalobs[-1][0]"
      ],
      "metadata": {
        "colab": {
          "base_uri": "https://localhost:8080/"
        },
        "id": "t9k4Crwewl_K",
        "outputId": "3f2475a0-e192-4de1-c89c-dfac90c60bd3"
      },
      "execution_count": 22,
      "outputs": [
        {
          "output_type": "execute_result",
          "data": {
            "text/plain": [
              "True"
            ]
          },
          "metadata": {},
          "execution_count": 22
        }
      ]
    },
    {
      "cell_type": "code",
      "source": [
        "jalobs[-2][0] + jalobs[-3][0] + jalobs[-5][0] + jalobs[-8][0] + jalobs[-10][0], jalobs[-1][0]"
      ],
      "metadata": {
        "colab": {
          "base_uri": "https://localhost:8080/"
        },
        "id": "26l11DixxnrF",
        "outputId": "c67f0727-9558-437c-8b09-6475ddb51890"
      },
      "execution_count": 23,
      "outputs": [
        {
          "output_type": "execute_result",
          "data": {
            "text/plain": [
              "(1094, 442)"
            ]
          },
          "metadata": {},
          "execution_count": 23
        }
      ]
    },
    {
      "cell_type": "code",
      "source": [
        "jal.insert(0, 'нет')"
      ],
      "metadata": {
        "id": "pntQqxxsxqap"
      },
      "execution_count": 24,
      "outputs": []
    },
    {
      "cell_type": "code",
      "source": [
        "del jal[2]"
      ],
      "metadata": {
        "id": "mKlraccxx1OM"
      },
      "execution_count": 25,
      "outputs": []
    },
    {
      "cell_type": "code",
      "source": [
        "del jal[2]"
      ],
      "metadata": {
        "id": "RMRjjGcXyBN0"
      },
      "execution_count": 26,
      "outputs": []
    },
    {
      "cell_type": "code",
      "source": [
        "del jal[3]"
      ],
      "metadata": {
        "id": "16lSlU25x_UT"
      },
      "execution_count": 27,
      "outputs": []
    },
    {
      "cell_type": "code",
      "source": [
        "del jal[5]"
      ],
      "metadata": {
        "id": "KXr63Umbx_Em"
      },
      "execution_count": 28,
      "outputs": []
    },
    {
      "cell_type": "code",
      "source": [
        "del jal[6]"
      ],
      "metadata": {
        "id": "7T4NpJbwx-0h"
      },
      "execution_count": 29,
      "outputs": []
    },
    {
      "cell_type": "code",
      "source": [
        "del jal[-1]"
      ],
      "metadata": {
        "id": "Eo22XWrkztAM"
      },
      "execution_count": 30,
      "outputs": []
    },
    {
      "cell_type": "code",
      "source": [
        "len(jal)"
      ],
      "metadata": {
        "colab": {
          "base_uri": "https://localhost:8080/"
        },
        "id": "Mt5NIt5ryswF",
        "outputId": "fa7fc7e9-7b31-46a4-9d68-94e40648b911"
      },
      "execution_count": 31,
      "outputs": [
        {
          "output_type": "execute_result",
          "data": {
            "text/plain": [
              "10"
            ]
          },
          "metadata": {},
          "execution_count": 31
        }
      ]
    },
    {
      "cell_type": "code",
      "source": [
        "jal"
      ],
      "metadata": {
        "colab": {
          "base_uri": "https://localhost:8080/"
        },
        "id": "NpSuO2UryywQ",
        "outputId": "c6377564-0d8e-46c3-d502-f1a61514aced"
      },
      "execution_count": 32,
      "outputs": [
        {
          "output_type": "execute_result",
          "data": {
            "text/plain": [
              "['нет',\n",
              " 'сонливость',\n",
              " 'заложенность в нем.',\n",
              " 'першение и боль  в горле.',\n",
              " 'утомляемость .',\n",
              " 'на умеренную хр.боль в правом плечевом суставе',\n",
              " 'жалобы на ощущение тревоги',\n",
              " 'дискомфорт в верхних отделах живота',\n",
              " 'периодическое подкашливание',\n",
              " 'усиливается при ротации']"
            ]
          },
          "metadata": {},
          "execution_count": 32
        }
      ]
    },
    {
      "cell_type": "markdown",
      "source": [
        "Это ответ на топ 10 самых встречаемых жалоб"
      ],
      "metadata": {
        "id": "HjJ0evJmzzmp"
      }
    },
    {
      "cell_type": "markdown",
      "source": [
        "--------------------------------------------------------------------"
      ],
      "metadata": {
        "id": "ye2OH1uUz70g"
      }
    },
    {
      "cell_type": "code",
      "source": [
        "for i in jal:\n",
        "  df[i] = [0] * df.shape[0]"
      ],
      "metadata": {
        "id": "DQaRLDyZuYTI"
      },
      "execution_count": 44,
      "outputs": []
    },
    {
      "cell_type": "code",
      "source": [
        "df['другое'] = [0] * df.shape[0]"
      ],
      "metadata": {
        "id": "U2tAz9KuA_-S"
      },
      "execution_count": 42,
      "outputs": []
    },
    {
      "cell_type": "code",
      "source": [
        "df"
      ],
      "metadata": {
        "id": "pofhHpq2zHmr"
      },
      "execution_count": null,
      "outputs": []
    },
    {
      "cell_type": "code",
      "source": [
        "#функция собирающая из строки список слов приведенных в нормальную форму\n",
        "\n",
        "morph = pymorphy2.MorphAnalyzer()\n",
        "\n",
        "def norma(st):\n",
        "  s = st.split()\n",
        "  s1 = []\n",
        "  for i in s:\n",
        "    sl = ''\n",
        "    for j in i:\n",
        "      if j.isalpha():\n",
        "        sl += j\n",
        "    s1.append(sl)\n",
        "  s2 = []\n",
        "  for i in s1:\n",
        "    s2.append(morph.parse(i)[0].normal_form)\n",
        "  return s2\n"
      ],
      "metadata": {
        "id": "soHS4oCB-r9o"
      },
      "execution_count": 35,
      "outputs": []
    },
    {
      "cell_type": "code",
      "source": [
        "for i in range(len(df['Жалобы'])):\n",
        "    norm = norma(df['Жалобы'][i])\n",
        "    flag = True\n",
        "    for j in jal:\n",
        "        for k in norm:\n",
        "            if fuzz.ratio(k, j) >= 50:\n",
        "                df[j][i] = 1\n",
        "                flag = False\n",
        "    if flag:\n",
        "      df['другое'][i] = 1"
      ],
      "metadata": {
        "colab": {
          "base_uri": "https://localhost:8080/"
        },
        "id": "5EvipToJ__z0",
        "outputId": "803e6ad6-3902-48fa-f5fd-4b15ebf690ac"
      },
      "execution_count": 45,
      "outputs": [
        {
          "output_type": "stream",
          "name": "stderr",
          "text": [
            "<ipython-input-45-61e5351877df>:10: SettingWithCopyWarning: \n",
            "A value is trying to be set on a copy of a slice from a DataFrame\n",
            "\n",
            "See the caveats in the documentation: https://pandas.pydata.org/pandas-docs/stable/user_guide/indexing.html#returning-a-view-versus-a-copy\n",
            "  df['другое'][i] = 1\n",
            "<ipython-input-45-61e5351877df>:7: SettingWithCopyWarning: \n",
            "A value is trying to be set on a copy of a slice from a DataFrame\n",
            "\n",
            "See the caveats in the documentation: https://pandas.pydata.org/pandas-docs/stable/user_guide/indexing.html#returning-a-view-versus-a-copy\n",
            "  df[j][i] = 1\n"
          ]
        }
      ]
    },
    {
      "cell_type": "code",
      "source": [
        "for i in range(len(df['Жалобы'])):\n",
        "    flag = True\n",
        "    for j in jal:\n",
        "        if fuzz.ratio(df['Жалобы'][i], j) >= 60:\n",
        "            flag = False\n",
        "            df[j][i] = 1\n",
        "    if flag:\n",
        "      df['другое'][i] = 1"
      ],
      "metadata": {
        "id": "mUR66x-yzJ1H"
      },
      "execution_count": null,
      "outputs": []
    },
    {
      "cell_type": "code",
      "source": [
        "df"
      ],
      "metadata": {
        "id": "YMFgGkYh_AXS"
      },
      "execution_count": null,
      "outputs": []
    },
    {
      "cell_type": "code",
      "source": [
        "for i in jal + ['другое']:\n",
        "  print(df[i].sum(), i)"
      ],
      "metadata": {
        "colab": {
          "base_uri": "https://localhost:8080/"
        },
        "id": "FJHOcw_LDD6p",
        "outputId": "3f3e4941-59c7-4ad1-915a-e703ea24b0b0"
      },
      "execution_count": 49,
      "outputs": [
        {
          "output_type": "stream",
          "name": "stdout",
          "text": [
            "3894 нет\n",
            "6290 сонливость\n",
            "1187 заложенность в нем.\n",
            "26 першение и боль  в горле.\n",
            "1734 утомляемость .\n",
            "67 на умеренную хр.боль в правом плечевом суставе\n",
            "31 жалобы на ощущение тревоги\n",
            "29 дискомфорт в верхних отделах живота\n",
            "1408 периодическое подкашливание\n",
            "500 усиливается при ротации\n",
            "12178 другое\n"
          ]
        }
      ]
    },
    {
      "cell_type": "code",
      "source": [
        "df.to_csv('new_data.csv', index=False)"
      ],
      "metadata": {
        "id": "LGjqXWBj1xbK"
      },
      "execution_count": 50,
      "outputs": []
    }
  ]
}