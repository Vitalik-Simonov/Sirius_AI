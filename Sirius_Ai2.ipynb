{
  "nbformat": 4,
  "nbformat_minor": 0,
  "metadata": {
    "colab": {
      "provenance": []
    },
    "kernelspec": {
      "name": "python3",
      "display_name": "Python 3"
    },
    "language_info": {
      "name": "python"
    }
  },
  "cells": [
    {
      "cell_type": "code",
      "execution_count": 1,
      "metadata": {
        "id": "ft08ctI1MME-"
      },
      "outputs": [],
      "source": [
        "import pandas as pd"
      ]
    },
    {
      "cell_type": "code",
      "source": [
        "!pip install pymorphy2"
      ],
      "metadata": {
        "id": "prujSS47Nec3",
        "colab": {
          "base_uri": "https://localhost:8080/"
        },
        "outputId": "602995d8-8c4e-4fa4-c25b-8619d838ff34"
      },
      "execution_count": 2,
      "outputs": [
        {
          "output_type": "stream",
          "name": "stdout",
          "text": [
            "Collecting pymorphy2\n",
            "  Downloading pymorphy2-0.9.1-py3-none-any.whl (55 kB)\n",
            "\u001b[?25l     \u001b[90m━━━━━━━━━━━━━━━━━━━━━━━━━━━━━━━━━━━━━━━━\u001b[0m \u001b[32m0.0/55.5 kB\u001b[0m \u001b[31m?\u001b[0m eta \u001b[36m-:--:--\u001b[0m\r\u001b[2K     \u001b[90m━━━━━━━━━━━━━━━━━━━━━━━━━━━━━━━━━━━━━━━━\u001b[0m \u001b[32m55.5/55.5 kB\u001b[0m \u001b[31m1.8 MB/s\u001b[0m eta \u001b[36m0:00:00\u001b[0m\n",
            "\u001b[?25hCollecting dawg-python>=0.7.1 (from pymorphy2)\n",
            "  Downloading DAWG_Python-0.7.2-py2.py3-none-any.whl (11 kB)\n",
            "Collecting pymorphy2-dicts-ru<3.0,>=2.4 (from pymorphy2)\n",
            "  Downloading pymorphy2_dicts_ru-2.4.417127.4579844-py2.py3-none-any.whl (8.2 MB)\n",
            "\u001b[2K     \u001b[90m━━━━━━━━━━━━━━━━━━━━━━━━━━━━━━━━━━━━━━━━\u001b[0m \u001b[32m8.2/8.2 MB\u001b[0m \u001b[31m24.2 MB/s\u001b[0m eta \u001b[36m0:00:00\u001b[0m\n",
            "\u001b[?25hCollecting docopt>=0.6 (from pymorphy2)\n",
            "  Downloading docopt-0.6.2.tar.gz (25 kB)\n",
            "  Preparing metadata (setup.py) ... \u001b[?25l\u001b[?25hdone\n",
            "Building wheels for collected packages: docopt\n",
            "  Building wheel for docopt (setup.py) ... \u001b[?25l\u001b[?25hdone\n",
            "  Created wheel for docopt: filename=docopt-0.6.2-py2.py3-none-any.whl size=13706 sha256=43e5795f1bfb6fbd954372dab52920730b45a6a89d0c7d6f1fa5c9fd87a99ccc\n",
            "  Stored in directory: /root/.cache/pip/wheels/fc/ab/d4/5da2067ac95b36618c629a5f93f809425700506f72c9732fac\n",
            "Successfully built docopt\n",
            "Installing collected packages: pymorphy2-dicts-ru, docopt, dawg-python, pymorphy2\n",
            "Successfully installed dawg-python-0.7.2 docopt-0.6.2 pymorphy2-0.9.1 pymorphy2-dicts-ru-2.4.417127.4579844\n"
          ]
        }
      ]
    },
    {
      "cell_type": "code",
      "source": [
        "import pymorphy2"
      ],
      "metadata": {
        "id": "0sph7nGKrH45"
      },
      "execution_count": 3,
      "outputs": []
    },
    {
      "cell_type": "code",
      "source": [
        "df = pd.read_csv('медицинские_протоколы.csv', sep=';')"
      ],
      "metadata": {
        "id": "YnOv3opBNtsK"
      },
      "execution_count": 4,
      "outputs": []
    },
    {
      "cell_type": "code",
      "source": [
        "df.columns"
      ],
      "metadata": {
        "colab": {
          "base_uri": "https://localhost:8080/"
        },
        "id": "p2S0j5orQv6Y",
        "outputId": "5f2696d3-fef6-4bbd-c551-56f5d8089e5e"
      },
      "execution_count": 5,
      "outputs": [
        {
          "output_type": "execute_result",
          "data": {
            "text/plain": [
              "Index(['MedicalRecordKey', 'MedicalRecordDate', 'PatientKey', 'Возраст', 'Пол',\n",
              "       'СпециальностьВрача', 'Жалобы', 'ПеренесенныеЗаболевания',\n",
              "       'ПеренесенныеОперации', 'ПринимаемыеПрепараты'],\n",
              "      dtype='object')"
            ]
          },
          "metadata": {},
          "execution_count": 5
        }
      ]
    },
    {
      "cell_type": "code",
      "source": [
        "df.isna().sum()"
      ],
      "metadata": {
        "colab": {
          "base_uri": "https://localhost:8080/"
        },
        "id": "pbRLmo3hQ3A9",
        "outputId": "99f37868-33bb-4bbf-df22-e501b4945a94"
      },
      "execution_count": 6,
      "outputs": [
        {
          "output_type": "execute_result",
          "data": {
            "text/plain": [
              "MedicalRecordKey              0\n",
              "MedicalRecordDate             0\n",
              "PatientKey                    0\n",
              "Возраст                       0\n",
              "Пол                           1\n",
              "СпециальностьВрача            0\n",
              "Жалобы                        0\n",
              "ПеренесенныеЗаболевания     348\n",
              "ПеренесенныеОперации       3180\n",
              "ПринимаемыеПрепараты       5794\n",
              "dtype: int64"
            ]
          },
          "metadata": {},
          "execution_count": 6
        }
      ]
    },
    {
      "cell_type": "code",
      "source": [
        "df['Пол'] = df['Пол'].fillna(df['Пол'].value_counts().keys()[0])"
      ],
      "metadata": {
        "id": "Ab34KG79T_4l"
      },
      "execution_count": 7,
      "outputs": []
    },
    {
      "cell_type": "code",
      "source": [
        "df"
      ],
      "metadata": {
        "id": "YFZaX4CaWcGn",
        "colab": {
          "base_uri": "https://localhost:8080/",
          "height": 912
        },
        "outputId": "40ccd99d-fa59-4947-bc54-3c1476c7d377"
      },
      "execution_count": 8,
      "outputs": [
        {
          "output_type": "execute_result",
          "data": {
            "text/plain": [
              "       MedicalRecordKey        MedicalRecordDate  \\\n",
              "0             106627476  2023-09-01 18:39:46.000   \n",
              "1             106627477  2023-09-01 18:39:45.000   \n",
              "2             106627482  2023-09-01 18:39:53.000   \n",
              "3             106627486  2023-09-01 18:39:57.000   \n",
              "4             106627490  2023-09-01 18:40:03.000   \n",
              "...                 ...                      ...   \n",
              "12760         106627461  2023-09-01 18:39:19.000   \n",
              "12761         106627464  2023-09-01 18:39:25.000   \n",
              "12762         106627465  2023-09-01 18:39:24.000   \n",
              "12763         106627471  2023-09-01 18:39:38.000   \n",
              "12764         106627472  2023-09-01 18:39:41.000   \n",
              "\n",
              "                                              PatientKey  Возраст  Пол  \\\n",
              "0      0xA52FAC0660E364A3BD2338AD6749D320FF3E08338230...     9764  1.0   \n",
              "1      0xC03852BF5FDC992B86A87B1215BC47EBF66C1AB03F6D...    13814  1.0   \n",
              "2      0x417FA75C8DAD480F952C6931B305A0218311A4BE61E2...    10311  0.0   \n",
              "3      0x922886B7EA4058AC1BA576BEC37C24A4A2E8AB65E912...    22669  1.0   \n",
              "4      0xFAB438E0CA9FFC5CFF28E0B33914E95FEE9524108639...    15586  1.0   \n",
              "...                                                  ...      ...  ...   \n",
              "12760  0x5CD4B5F0F734ABAD1F5DE02CDBFC06C095E53C53F0FC...    17642  0.0   \n",
              "12761  0x2D092FE67C4C4A48BB11D7105FBF273125834A0CCACE...    13334  1.0   \n",
              "12762  0x3FEEB9EE504FE5396E8A7648DA7332A96AB15EB92F11...     8429  0.0   \n",
              "12763  0xECD0944BDBDFD73E0CDB6F1C2A38D3052927BE1E865E...    22025  0.0   \n",
              "12764  0x11521B7C4C5115DADC3F54A0EE55082EEE5D4412EE55...    10906  0.0   \n",
              "\n",
              "           СпециальностьВрача  \\\n",
              "0       Врач акушер гинеколог   \n",
              "1                 Врач уролог   \n",
              "2       Врач дерматовенеролог   \n",
              "3              Врач кардиолог   \n",
              "4       Врач акушер гинеколог   \n",
              "...                       ...   \n",
              "12760           Врач терапевт   \n",
              "12761  Врач оториноларинголог   \n",
              "12762             Врач уролог   \n",
              "12763          Врач кардиолог   \n",
              "12764    Врач гастроэнтеролог   \n",
              "\n",
              "                                                  Жалобы  \\\n",
              "0                 на мажущие  выделения из половых путей   \n",
              "1      на дискомфорт при мочеиспускании на учащенное ...   \n",
              "2                На покраснение и шелушение кожи головы.   \n",
              "3      Подписано информированное добровольное согласи...   \n",
              "4      Жалобы на болезненность и нагрубание правой мо...   \n",
              "...                                                  ...   \n",
              "12760             покраснение отек 1 пальца правой стопы   \n",
              "12761  на момент осмотра активных жалоб по ЛОР не пре...   \n",
              "12762  НАЛ  жалобы на возникновение болевых ощущенив ...   \n",
              "12763  Нестабильность цифр АД, на повышение цифр АД д...   \n",
              "12764   изжога после приема пищи , переполнение в эпи...   \n",
              "\n",
              "                                 ПеренесенныеЗаболевания  \\\n",
              "0      Факт получения травм, ожогов, ран, проведения ...   \n",
              "1      Факт получения травм, ожогов, ран, проведения ...   \n",
              "2                                               ГЭРБ ЖДА   \n",
              "3                                            узловой зоб   \n",
              "4      Факт получения травм, ожогов, ран, проведения ...   \n",
              "...                                                  ...   \n",
              "12760  Факт получения травм, ожогов, ран, проведения ...   \n",
              "12761  Факт получения травм, ожогов, ран, проведения ...   \n",
              "12762  ОРВИ Факт получения травм, ожогов, ран, провед...   \n",
              "12763  Факт получения травм, ожогов, ран, проведения ...   \n",
              "12764  Факт получения травм, ожогов, ран, проведения ...   \n",
              "\n",
              "                                    ПеренесенныеОперации  \\\n",
              "0                                               Отрицает   \n",
              "1       аппендэктомия 2013.  кесарево  сечение -  пре...   \n",
              "2                                                      -   \n",
              "3      аппендицит в 15-летнем возрасте, удаление кист...   \n",
              "4      аппендэктомия  в 5 лет  Импланты молочных желе...   \n",
              "...                                                  ...   \n",
              "12760                                         варикоцеле   \n",
              "12761                                           Отрицает   \n",
              "12762                                                нет   \n",
              "12763      Стентирование коронарных артерий 05.02.2019г.   \n",
              "12764                                                NaN   \n",
              "\n",
              "                                    ПринимаемыеПрепараты  \n",
              "0                                Левотироксин 75 мкг/сут  \n",
              "1                                     монурал, канефрон.  \n",
              "2      Колекальльциферол - 4000 МЕ Калия йодид Мальто...  \n",
              "3      на пенициллиновый ряд - отек квинке, сульфанил...  \n",
              "4                                            Не отягощен  \n",
              "...                                                  ...  \n",
              "12760  На постоянной основе никакие лекарственные пре...  \n",
              "12761                                         Неизвестен  \n",
              "12762                                                NaN  \n",
              "12763                                         Неизвестен  \n",
              "12764                                                NaN  \n",
              "\n",
              "[12765 rows x 10 columns]"
            ],
            "text/html": [
              "\n",
              "  <div id=\"df-a564e0f5-a61c-4755-b0e6-717306ca8b76\" class=\"colab-df-container\">\n",
              "    <div>\n",
              "<style scoped>\n",
              "    .dataframe tbody tr th:only-of-type {\n",
              "        vertical-align: middle;\n",
              "    }\n",
              "\n",
              "    .dataframe tbody tr th {\n",
              "        vertical-align: top;\n",
              "    }\n",
              "\n",
              "    .dataframe thead th {\n",
              "        text-align: right;\n",
              "    }\n",
              "</style>\n",
              "<table border=\"1\" class=\"dataframe\">\n",
              "  <thead>\n",
              "    <tr style=\"text-align: right;\">\n",
              "      <th></th>\n",
              "      <th>MedicalRecordKey</th>\n",
              "      <th>MedicalRecordDate</th>\n",
              "      <th>PatientKey</th>\n",
              "      <th>Возраст</th>\n",
              "      <th>Пол</th>\n",
              "      <th>СпециальностьВрача</th>\n",
              "      <th>Жалобы</th>\n",
              "      <th>ПеренесенныеЗаболевания</th>\n",
              "      <th>ПеренесенныеОперации</th>\n",
              "      <th>ПринимаемыеПрепараты</th>\n",
              "    </tr>\n",
              "  </thead>\n",
              "  <tbody>\n",
              "    <tr>\n",
              "      <th>0</th>\n",
              "      <td>106627476</td>\n",
              "      <td>2023-09-01 18:39:46.000</td>\n",
              "      <td>0xA52FAC0660E364A3BD2338AD6749D320FF3E08338230...</td>\n",
              "      <td>9764</td>\n",
              "      <td>1.0</td>\n",
              "      <td>Врач акушер гинеколог</td>\n",
              "      <td>на мажущие  выделения из половых путей</td>\n",
              "      <td>Факт получения травм, ожогов, ран, проведения ...</td>\n",
              "      <td>Отрицает</td>\n",
              "      <td>Левотироксин 75 мкг/сут</td>\n",
              "    </tr>\n",
              "    <tr>\n",
              "      <th>1</th>\n",
              "      <td>106627477</td>\n",
              "      <td>2023-09-01 18:39:45.000</td>\n",
              "      <td>0xC03852BF5FDC992B86A87B1215BC47EBF66C1AB03F6D...</td>\n",
              "      <td>13814</td>\n",
              "      <td>1.0</td>\n",
              "      <td>Врач уролог</td>\n",
              "      <td>на дискомфорт при мочеиспускании на учащенное ...</td>\n",
              "      <td>Факт получения травм, ожогов, ран, проведения ...</td>\n",
              "      <td>аппендэктомия 2013.  кесарево  сечение -  пре...</td>\n",
              "      <td>монурал, канефрон.</td>\n",
              "    </tr>\n",
              "    <tr>\n",
              "      <th>2</th>\n",
              "      <td>106627482</td>\n",
              "      <td>2023-09-01 18:39:53.000</td>\n",
              "      <td>0x417FA75C8DAD480F952C6931B305A0218311A4BE61E2...</td>\n",
              "      <td>10311</td>\n",
              "      <td>0.0</td>\n",
              "      <td>Врач дерматовенеролог</td>\n",
              "      <td>На покраснение и шелушение кожи головы.</td>\n",
              "      <td>ГЭРБ ЖДА</td>\n",
              "      <td>-</td>\n",
              "      <td>Колекальльциферол - 4000 МЕ Калия йодид Мальто...</td>\n",
              "    </tr>\n",
              "    <tr>\n",
              "      <th>3</th>\n",
              "      <td>106627486</td>\n",
              "      <td>2023-09-01 18:39:57.000</td>\n",
              "      <td>0x922886B7EA4058AC1BA576BEC37C24A4A2E8AB65E912...</td>\n",
              "      <td>22669</td>\n",
              "      <td>1.0</td>\n",
              "      <td>Врач кардиолог</td>\n",
              "      <td>Подписано информированное добровольное согласи...</td>\n",
              "      <td>узловой зоб</td>\n",
              "      <td>аппендицит в 15-летнем возрасте, удаление кист...</td>\n",
              "      <td>на пенициллиновый ряд - отек квинке, сульфанил...</td>\n",
              "    </tr>\n",
              "    <tr>\n",
              "      <th>4</th>\n",
              "      <td>106627490</td>\n",
              "      <td>2023-09-01 18:40:03.000</td>\n",
              "      <td>0xFAB438E0CA9FFC5CFF28E0B33914E95FEE9524108639...</td>\n",
              "      <td>15586</td>\n",
              "      <td>1.0</td>\n",
              "      <td>Врач акушер гинеколог</td>\n",
              "      <td>Жалобы на болезненность и нагрубание правой мо...</td>\n",
              "      <td>Факт получения травм, ожогов, ран, проведения ...</td>\n",
              "      <td>аппендэктомия  в 5 лет  Импланты молочных желе...</td>\n",
              "      <td>Не отягощен</td>\n",
              "    </tr>\n",
              "    <tr>\n",
              "      <th>...</th>\n",
              "      <td>...</td>\n",
              "      <td>...</td>\n",
              "      <td>...</td>\n",
              "      <td>...</td>\n",
              "      <td>...</td>\n",
              "      <td>...</td>\n",
              "      <td>...</td>\n",
              "      <td>...</td>\n",
              "      <td>...</td>\n",
              "      <td>...</td>\n",
              "    </tr>\n",
              "    <tr>\n",
              "      <th>12760</th>\n",
              "      <td>106627461</td>\n",
              "      <td>2023-09-01 18:39:19.000</td>\n",
              "      <td>0x5CD4B5F0F734ABAD1F5DE02CDBFC06C095E53C53F0FC...</td>\n",
              "      <td>17642</td>\n",
              "      <td>0.0</td>\n",
              "      <td>Врач терапевт</td>\n",
              "      <td>покраснение отек 1 пальца правой стопы</td>\n",
              "      <td>Факт получения травм, ожогов, ран, проведения ...</td>\n",
              "      <td>варикоцеле</td>\n",
              "      <td>На постоянной основе никакие лекарственные пре...</td>\n",
              "    </tr>\n",
              "    <tr>\n",
              "      <th>12761</th>\n",
              "      <td>106627464</td>\n",
              "      <td>2023-09-01 18:39:25.000</td>\n",
              "      <td>0x2D092FE67C4C4A48BB11D7105FBF273125834A0CCACE...</td>\n",
              "      <td>13334</td>\n",
              "      <td>1.0</td>\n",
              "      <td>Врач оториноларинголог</td>\n",
              "      <td>на момент осмотра активных жалоб по ЛОР не пре...</td>\n",
              "      <td>Факт получения травм, ожогов, ран, проведения ...</td>\n",
              "      <td>Отрицает</td>\n",
              "      <td>Неизвестен</td>\n",
              "    </tr>\n",
              "    <tr>\n",
              "      <th>12762</th>\n",
              "      <td>106627465</td>\n",
              "      <td>2023-09-01 18:39:24.000</td>\n",
              "      <td>0x3FEEB9EE504FE5396E8A7648DA7332A96AB15EB92F11...</td>\n",
              "      <td>8429</td>\n",
              "      <td>0.0</td>\n",
              "      <td>Врач уролог</td>\n",
              "      <td>НАЛ  жалобы на возникновение болевых ощущенив ...</td>\n",
              "      <td>ОРВИ Факт получения травм, ожогов, ран, провед...</td>\n",
              "      <td>нет</td>\n",
              "      <td>NaN</td>\n",
              "    </tr>\n",
              "    <tr>\n",
              "      <th>12763</th>\n",
              "      <td>106627471</td>\n",
              "      <td>2023-09-01 18:39:38.000</td>\n",
              "      <td>0xECD0944BDBDFD73E0CDB6F1C2A38D3052927BE1E865E...</td>\n",
              "      <td>22025</td>\n",
              "      <td>0.0</td>\n",
              "      <td>Врач кардиолог</td>\n",
              "      <td>Нестабильность цифр АД, на повышение цифр АД д...</td>\n",
              "      <td>Факт получения травм, ожогов, ран, проведения ...</td>\n",
              "      <td>Стентирование коронарных артерий 05.02.2019г.</td>\n",
              "      <td>Неизвестен</td>\n",
              "    </tr>\n",
              "    <tr>\n",
              "      <th>12764</th>\n",
              "      <td>106627472</td>\n",
              "      <td>2023-09-01 18:39:41.000</td>\n",
              "      <td>0x11521B7C4C5115DADC3F54A0EE55082EEE5D4412EE55...</td>\n",
              "      <td>10906</td>\n",
              "      <td>0.0</td>\n",
              "      <td>Врач гастроэнтеролог</td>\n",
              "      <td>изжога после приема пищи , переполнение в эпи...</td>\n",
              "      <td>Факт получения травм, ожогов, ран, проведения ...</td>\n",
              "      <td>NaN</td>\n",
              "      <td>NaN</td>\n",
              "    </tr>\n",
              "  </tbody>\n",
              "</table>\n",
              "<p>12765 rows × 10 columns</p>\n",
              "</div>\n",
              "    <div class=\"colab-df-buttons\">\n",
              "\n",
              "  <div class=\"colab-df-container\">\n",
              "    <button class=\"colab-df-convert\" onclick=\"convertToInteractive('df-a564e0f5-a61c-4755-b0e6-717306ca8b76')\"\n",
              "            title=\"Convert this dataframe to an interactive table.\"\n",
              "            style=\"display:none;\">\n",
              "\n",
              "  <svg xmlns=\"http://www.w3.org/2000/svg\" height=\"24px\" viewBox=\"0 -960 960 960\">\n",
              "    <path d=\"M120-120v-720h720v720H120Zm60-500h600v-160H180v160Zm220 220h160v-160H400v160Zm0 220h160v-160H400v160ZM180-400h160v-160H180v160Zm440 0h160v-160H620v160ZM180-180h160v-160H180v160Zm440 0h160v-160H620v160Z\"/>\n",
              "  </svg>\n",
              "    </button>\n",
              "\n",
              "  <style>\n",
              "    .colab-df-container {\n",
              "      display:flex;\n",
              "      gap: 12px;\n",
              "    }\n",
              "\n",
              "    .colab-df-convert {\n",
              "      background-color: #E8F0FE;\n",
              "      border: none;\n",
              "      border-radius: 50%;\n",
              "      cursor: pointer;\n",
              "      display: none;\n",
              "      fill: #1967D2;\n",
              "      height: 32px;\n",
              "      padding: 0 0 0 0;\n",
              "      width: 32px;\n",
              "    }\n",
              "\n",
              "    .colab-df-convert:hover {\n",
              "      background-color: #E2EBFA;\n",
              "      box-shadow: 0px 1px 2px rgba(60, 64, 67, 0.3), 0px 1px 3px 1px rgba(60, 64, 67, 0.15);\n",
              "      fill: #174EA6;\n",
              "    }\n",
              "\n",
              "    .colab-df-buttons div {\n",
              "      margin-bottom: 4px;\n",
              "    }\n",
              "\n",
              "    [theme=dark] .colab-df-convert {\n",
              "      background-color: #3B4455;\n",
              "      fill: #D2E3FC;\n",
              "    }\n",
              "\n",
              "    [theme=dark] .colab-df-convert:hover {\n",
              "      background-color: #434B5C;\n",
              "      box-shadow: 0px 1px 3px 1px rgba(0, 0, 0, 0.15);\n",
              "      filter: drop-shadow(0px 1px 2px rgba(0, 0, 0, 0.3));\n",
              "      fill: #FFFFFF;\n",
              "    }\n",
              "  </style>\n",
              "\n",
              "    <script>\n",
              "      const buttonEl =\n",
              "        document.querySelector('#df-a564e0f5-a61c-4755-b0e6-717306ca8b76 button.colab-df-convert');\n",
              "      buttonEl.style.display =\n",
              "        google.colab.kernel.accessAllowed ? 'block' : 'none';\n",
              "\n",
              "      async function convertToInteractive(key) {\n",
              "        const element = document.querySelector('#df-a564e0f5-a61c-4755-b0e6-717306ca8b76');\n",
              "        const dataTable =\n",
              "          await google.colab.kernel.invokeFunction('convertToInteractive',\n",
              "                                                    [key], {});\n",
              "        if (!dataTable) return;\n",
              "\n",
              "        const docLinkHtml = 'Like what you see? Visit the ' +\n",
              "          '<a target=\"_blank\" href=https://colab.research.google.com/notebooks/data_table.ipynb>data table notebook</a>'\n",
              "          + ' to learn more about interactive tables.';\n",
              "        element.innerHTML = '';\n",
              "        dataTable['output_type'] = 'display_data';\n",
              "        await google.colab.output.renderOutput(dataTable, element);\n",
              "        const docLink = document.createElement('div');\n",
              "        docLink.innerHTML = docLinkHtml;\n",
              "        element.appendChild(docLink);\n",
              "      }\n",
              "    </script>\n",
              "  </div>\n",
              "\n",
              "\n",
              "<div id=\"df-78e8c23e-a509-47e5-bdd8-9f2a503d571a\">\n",
              "  <button class=\"colab-df-quickchart\" onclick=\"quickchart('df-78e8c23e-a509-47e5-bdd8-9f2a503d571a')\"\n",
              "            title=\"Suggest charts\"\n",
              "            style=\"display:none;\">\n",
              "\n",
              "<svg xmlns=\"http://www.w3.org/2000/svg\" height=\"24px\"viewBox=\"0 0 24 24\"\n",
              "     width=\"24px\">\n",
              "    <g>\n",
              "        <path d=\"M19 3H5c-1.1 0-2 .9-2 2v14c0 1.1.9 2 2 2h14c1.1 0 2-.9 2-2V5c0-1.1-.9-2-2-2zM9 17H7v-7h2v7zm4 0h-2V7h2v10zm4 0h-2v-4h2v4z\"/>\n",
              "    </g>\n",
              "</svg>\n",
              "  </button>\n",
              "\n",
              "<style>\n",
              "  .colab-df-quickchart {\n",
              "      --bg-color: #E8F0FE;\n",
              "      --fill-color: #1967D2;\n",
              "      --hover-bg-color: #E2EBFA;\n",
              "      --hover-fill-color: #174EA6;\n",
              "      --disabled-fill-color: #AAA;\n",
              "      --disabled-bg-color: #DDD;\n",
              "  }\n",
              "\n",
              "  [theme=dark] .colab-df-quickchart {\n",
              "      --bg-color: #3B4455;\n",
              "      --fill-color: #D2E3FC;\n",
              "      --hover-bg-color: #434B5C;\n",
              "      --hover-fill-color: #FFFFFF;\n",
              "      --disabled-bg-color: #3B4455;\n",
              "      --disabled-fill-color: #666;\n",
              "  }\n",
              "\n",
              "  .colab-df-quickchart {\n",
              "    background-color: var(--bg-color);\n",
              "    border: none;\n",
              "    border-radius: 50%;\n",
              "    cursor: pointer;\n",
              "    display: none;\n",
              "    fill: var(--fill-color);\n",
              "    height: 32px;\n",
              "    padding: 0;\n",
              "    width: 32px;\n",
              "  }\n",
              "\n",
              "  .colab-df-quickchart:hover {\n",
              "    background-color: var(--hover-bg-color);\n",
              "    box-shadow: 0 1px 2px rgba(60, 64, 67, 0.3), 0 1px 3px 1px rgba(60, 64, 67, 0.15);\n",
              "    fill: var(--button-hover-fill-color);\n",
              "  }\n",
              "\n",
              "  .colab-df-quickchart-complete:disabled,\n",
              "  .colab-df-quickchart-complete:disabled:hover {\n",
              "    background-color: var(--disabled-bg-color);\n",
              "    fill: var(--disabled-fill-color);\n",
              "    box-shadow: none;\n",
              "  }\n",
              "\n",
              "  .colab-df-spinner {\n",
              "    border: 2px solid var(--fill-color);\n",
              "    border-color: transparent;\n",
              "    border-bottom-color: var(--fill-color);\n",
              "    animation:\n",
              "      spin 1s steps(1) infinite;\n",
              "  }\n",
              "\n",
              "  @keyframes spin {\n",
              "    0% {\n",
              "      border-color: transparent;\n",
              "      border-bottom-color: var(--fill-color);\n",
              "      border-left-color: var(--fill-color);\n",
              "    }\n",
              "    20% {\n",
              "      border-color: transparent;\n",
              "      border-left-color: var(--fill-color);\n",
              "      border-top-color: var(--fill-color);\n",
              "    }\n",
              "    30% {\n",
              "      border-color: transparent;\n",
              "      border-left-color: var(--fill-color);\n",
              "      border-top-color: var(--fill-color);\n",
              "      border-right-color: var(--fill-color);\n",
              "    }\n",
              "    40% {\n",
              "      border-color: transparent;\n",
              "      border-right-color: var(--fill-color);\n",
              "      border-top-color: var(--fill-color);\n",
              "    }\n",
              "    60% {\n",
              "      border-color: transparent;\n",
              "      border-right-color: var(--fill-color);\n",
              "    }\n",
              "    80% {\n",
              "      border-color: transparent;\n",
              "      border-right-color: var(--fill-color);\n",
              "      border-bottom-color: var(--fill-color);\n",
              "    }\n",
              "    90% {\n",
              "      border-color: transparent;\n",
              "      border-bottom-color: var(--fill-color);\n",
              "    }\n",
              "  }\n",
              "</style>\n",
              "\n",
              "  <script>\n",
              "    async function quickchart(key) {\n",
              "      const quickchartButtonEl =\n",
              "        document.querySelector('#' + key + ' button');\n",
              "      quickchartButtonEl.disabled = true;  // To prevent multiple clicks.\n",
              "      quickchartButtonEl.classList.add('colab-df-spinner');\n",
              "      try {\n",
              "        const charts = await google.colab.kernel.invokeFunction(\n",
              "            'suggestCharts', [key], {});\n",
              "      } catch (error) {\n",
              "        console.error('Error during call to suggestCharts:', error);\n",
              "      }\n",
              "      quickchartButtonEl.classList.remove('colab-df-spinner');\n",
              "      quickchartButtonEl.classList.add('colab-df-quickchart-complete');\n",
              "    }\n",
              "    (() => {\n",
              "      let quickchartButtonEl =\n",
              "        document.querySelector('#df-78e8c23e-a509-47e5-bdd8-9f2a503d571a button');\n",
              "      quickchartButtonEl.style.display =\n",
              "        google.colab.kernel.accessAllowed ? 'block' : 'none';\n",
              "    })();\n",
              "  </script>\n",
              "</div>\n",
              "    </div>\n",
              "  </div>\n"
            ]
          },
          "metadata": {},
          "execution_count": 8
        }
      ]
    },
    {
      "cell_type": "code",
      "source": [
        "df['Жалобы']"
      ],
      "metadata": {
        "colab": {
          "base_uri": "https://localhost:8080/"
        },
        "id": "iuWaFLHDpY2e",
        "outputId": "6a3e3d4a-3e93-4c20-b12f-aab5617ef201"
      },
      "execution_count": 9,
      "outputs": [
        {
          "output_type": "execute_result",
          "data": {
            "text/plain": [
              "0                   на мажущие  выделения из половых путей\n",
              "1        на дискомфорт при мочеиспускании на учащенное ...\n",
              "2                  На покраснение и шелушение кожи головы.\n",
              "3        Подписано информированное добровольное согласи...\n",
              "4        Жалобы на болезненность и нагрубание правой мо...\n",
              "                               ...                        \n",
              "12760               покраснение отек 1 пальца правой стопы\n",
              "12761    на момент осмотра активных жалоб по ЛОР не пре...\n",
              "12762    НАЛ  жалобы на возникновение болевых ощущенив ...\n",
              "12763    Нестабильность цифр АД, на повышение цифр АД д...\n",
              "12764     изжога после приема пищи , переполнение в эпи...\n",
              "Name: Жалобы, Length: 12765, dtype: object"
            ]
          },
          "metadata": {},
          "execution_count": 9
        }
      ]
    },
    {
      "cell_type": "code",
      "source": [
        "morph = pymorphy2.MorphAnalyzer()"
      ],
      "metadata": {
        "id": "27UKtmzXqcKa"
      },
      "execution_count": 10,
      "outputs": []
    },
    {
      "cell_type": "code",
      "source": [
        "#функция собирающая из строки список слов приведенных в нормальную форму\n",
        "def norma(st):\n",
        "  s = st.split()\n",
        "  s1 = []\n",
        "  for i in s:\n",
        "    sl = ''\n",
        "    for j in i:\n",
        "      if j.isalpha():\n",
        "        sl += j\n",
        "    s1.append(sl)\n",
        "  s2 = []\n",
        "  for i in s1:\n",
        "    s2.append(morph.parse(i)[0].normal_form)\n",
        "  return s2\n"
      ],
      "metadata": {
        "id": "_fqq-yzSpRTK"
      },
      "execution_count": 11,
      "outputs": []
    },
    {
      "cell_type": "code",
      "source": [
        "df['Жалобы'][0]"
      ],
      "metadata": {
        "colab": {
          "base_uri": "https://localhost:8080/",
          "height": 36
        },
        "id": "AIYAvJJKr8eW",
        "outputId": "b4f5098d-9a16-42fa-b7c1-b067e795b32b"
      },
      "execution_count": 12,
      "outputs": [
        {
          "output_type": "execute_result",
          "data": {
            "text/plain": [
              "'на мажущие  выделения из половых путей'"
            ],
            "application/vnd.google.colaboratory.intrinsic+json": {
              "type": "string"
            }
          },
          "metadata": {},
          "execution_count": 12
        }
      ]
    },
    {
      "cell_type": "code",
      "source": [
        "norma(df['Жалобы'][0]) # проверяем как работает функция на первой жалобе."
      ],
      "metadata": {
        "colab": {
          "base_uri": "https://localhost:8080/"
        },
        "id": "gkkoc6sOrIzf",
        "outputId": "d6fdfee5-9f3e-4a1b-e8cd-fb96c0efe1ce"
      },
      "execution_count": 13,
      "outputs": [
        {
          "output_type": "execute_result",
          "data": {
            "text/plain": [
              "['на', 'мазать', 'выделение', 'из', 'половой', 'путь']"
            ]
          },
          "metadata": {},
          "execution_count": 13
        }
      ]
    },
    {
      "cell_type": "code",
      "source": [
        "words = {} #словарь всех слов датафрейма"
      ],
      "metadata": {
        "id": "oRKgYD_AsIc0"
      },
      "execution_count": 14,
      "outputs": []
    },
    {
      "cell_type": "code",
      "source": [
        "n = 0\n",
        "for i in df['Жалобы']:\n",
        "  stroka = norma(i)\n",
        "# stroka - это спсисок из слов жалобы . Эту строку надо добавить в отдельный столбец индекс - переменная n\n",
        "  for j in stroka:\n",
        "    if j in words:\n",
        "      words[j] = words[j] + 1\n",
        "    else:\n",
        "      words[j] = 1\n",
        "  if len(words) % 1000 == 0:\n",
        "    print(n, len(words)) # смотрим как увеличивается словарь\n",
        "  n += 1"
      ],
      "metadata": {
        "id": "7_vFj2UgXNZv",
        "colab": {
          "base_uri": "https://localhost:8080/"
        },
        "outputId": "695734f9-5a07-41d2-8f00-e24031c74883"
      },
      "execution_count": 15,
      "outputs": [
        {
          "output_type": "stream",
          "name": "stdout",
          "text": [
            "1401 2000\n",
            "2274 3000\n",
            "2275 3000\n",
            "2276 3000\n",
            "2277 3000\n",
            "7722 6000\n",
            "7723 6000\n",
            "7724 6000\n",
            "12403 8000\n",
            "12404 8000\n",
            "12405 8000\n",
            "12406 8000\n",
            "12407 8000\n"
          ]
        }
      ]
    },
    {
      "cell_type": "code",
      "source": [
        "len(words)"
      ],
      "metadata": {
        "colab": {
          "base_uri": "https://localhost:8080/"
        },
        "id": "B7UK7bf6tcC-",
        "outputId": "e53ad10b-6245-456f-add6-d91fa2ccacfd"
      },
      "execution_count": 16,
      "outputs": [
        {
          "output_type": "execute_result",
          "data": {
            "text/plain": [
              "8091"
            ]
          },
          "metadata": {},
          "execution_count": 16
        }
      ]
    },
    {
      "cell_type": "code",
      "source": [
        "sorted_words = sorted(words.items(), key=lambda item: item[1], reverse=True)\n"
      ],
      "metadata": {
        "id": "Ia8oBppettNJ"
      },
      "execution_count": 17,
      "outputs": []
    },
    {
      "cell_type": "code",
      "source": [
        "# смотрим топ20 слов\n",
        "n = 0\n",
        "for i in sorted_words:\n",
        "  print(i)\n",
        "  n += 1\n",
        "  if n == 20:\n",
        "    break\n",
        "sorted_words = dict(sorted_words)"
      ],
      "metadata": {
        "colab": {
          "base_uri": "https://localhost:8080/"
        },
        "id": "qF1laiIguLQ4",
        "outputId": "f9621329-ba9e-4f09-8ddc-ed2249c2c813"
      },
      "execution_count": 18,
      "outputs": [
        {
          "output_type": "stream",
          "name": "stdout",
          "text": [
            "('в', 10877)\n",
            "('на', 10786)\n",
            "('', 10373)\n",
            "('боль', 5552)\n",
            "('жалоба', 3028)\n",
            "('по', 2636)\n",
            "('с', 2481)\n",
            "('область', 2347)\n",
            "('и', 2226)\n",
            "('не', 2040)\n",
            "('нет', 1778)\n",
            "('при', 1726)\n",
            "('ваш', 1562)\n",
            "('осмотр', 1530)\n",
            "('до', 1417)\n",
            "('левый', 1382)\n",
            "('дискомфорт', 1363)\n",
            "('шкала', 1263)\n",
            "('момент', 1140)\n",
            "('слабость', 1104)\n"
          ]
        }
      ]
    },
    {
      "cell_type": "code",
      "source": [
        "# составляем список стоп слов (мусорных по ценности информации)\n",
        "stop_words = [\"в\", \"на\", \"\", \"по\", \"с\", \"и\", \"при\", \"ваш\", \"до\"]"
      ],
      "metadata": {
        "id": "JkxX_2fnuX0L"
      },
      "execution_count": 19,
      "outputs": []
    },
    {
      "cell_type": "code",
      "source": [
        "# удаляем стоп слова\n",
        "for i in stop_words:\n",
        "  del sorted_words[i]"
      ],
      "metadata": {
        "id": "5F3Fei2lu591"
      },
      "execution_count": 20,
      "outputs": []
    },
    {
      "cell_type": "code",
      "source": [
        "#  и так несколько раз пока топ нас не будет устраивать\n",
        "n = 0\n",
        "for i in sorted_words:\n",
        "  print(i)\n",
        "  n += 1\n",
        "  if n == 20:\n",
        "    break"
      ],
      "metadata": {
        "colab": {
          "base_uri": "https://localhost:8080/"
        },
        "id": "qT8nJQixvcG4",
        "outputId": "868b49d6-6d69-4666-e3d1-9e38cd9645ee"
      },
      "execution_count": 21,
      "outputs": [
        {
          "output_type": "stream",
          "name": "stdout",
          "text": [
            "боль\n",
            "жалоба\n",
            "область\n",
            "не\n",
            "нет\n",
            "осмотр\n",
            "левый\n",
            "дискомфорт\n",
            "шкала\n",
            "момент\n",
            "слабость\n",
            "правый\n",
            "балл\n",
            "предъявлять\n",
            "живот\n",
            "оценка\n",
            "нос\n",
            "горло\n",
            "сустав\n",
            "отдел\n"
          ]
        }
      ]
    },
    {
      "cell_type": "code",
      "source": [
        "stop_words = [\"боль\", \"жалоба\", \"область\", \"не\", \"нет\", \"осмотр\", \"левый\", \"шкала\", \"момент\", \"правый\", \"балл\", \"предьявлять\", \"живот\", \"оценка\", \"отдел\"]"
      ],
      "metadata": {
        "id": "I92bqFTGwwZN"
      },
      "execution_count": 22,
      "outputs": []
    },
    {
      "cell_type": "code",
      "source": [
        "for i in stop_words:\n",
        "  del sorted_words[i]"
      ],
      "metadata": {
        "id": "u5GYBgkaxgxo"
      },
      "execution_count": 23,
      "outputs": []
    },
    {
      "cell_type": "code",
      "source": [
        "n = 0\n",
        "for i in sorted_words:\n",
        "  print(i)\n",
        "  n += 1\n",
        "  if n == 20:\n",
        "    break"
      ],
      "metadata": {
        "colab": {
          "base_uri": "https://localhost:8080/"
        },
        "id": "ca5XJ09Axoo1",
        "outputId": "c7bb457a-72fd-418a-a608-48e094cdbd2f"
      },
      "execution_count": 24,
      "outputs": [
        {
          "output_type": "stream",
          "name": "stdout",
          "text": [
            "дискомфорт\n",
            "слабость\n",
            "предъявлять\n",
            "нос\n",
            "горло\n",
            "сустав\n",
            "день\n",
            "кашель\n",
            "из\n",
            "выделение\n",
            "заложенность\n",
            "приём\n",
            "периодический\n",
            "головной\n",
            "после\n",
            "повышение\n",
            "ощущение\n",
            "тело\n",
            "общий\n",
            "стул\n"
          ]
        }
      ]
    },
    {
      "cell_type": "code",
      "source": [
        "stop_words = [\"день\", \"из\", \"приём\", \"периодический\", \"после\", \"общий\"]"
      ],
      "metadata": {
        "id": "VzPsSBkrxsCa"
      },
      "execution_count": 25,
      "outputs": []
    },
    {
      "cell_type": "code",
      "source": [
        "for i in stop_words:\n",
        "  del sorted_words[i]"
      ],
      "metadata": {
        "id": "zO592Nc0yDzA"
      },
      "execution_count": 26,
      "outputs": []
    },
    {
      "cell_type": "code",
      "source": [
        "n = 0\n",
        "for i in sorted_words:\n",
        "  print(i)\n",
        "  n += 1\n",
        "  if n == 20:\n",
        "    break"
      ],
      "metadata": {
        "colab": {
          "base_uri": "https://localhost:8080/"
        },
        "id": "j8O1QEF4yR50",
        "outputId": "221c466f-4688-41f8-c02f-b8d5a8a609b0"
      },
      "execution_count": 27,
      "outputs": [
        {
          "output_type": "stream",
          "name": "stdout",
          "text": [
            "дискомфорт\n",
            "слабость\n",
            "предъявлять\n",
            "нос\n",
            "горло\n",
            "сустав\n",
            "кашель\n",
            "выделение\n",
            "заложенность\n",
            "головной\n",
            "повышение\n",
            "ощущение\n",
            "тело\n",
            "стул\n",
            "без\n",
            "кожа\n",
            "нагрузка\n",
            "половой\n",
            "чувство\n",
            "снижение\n"
          ]
        }
      ]
    },
    {
      "cell_type": "code",
      "source": [
        "# составляем топ 10\n",
        "col = []\n",
        "n = 0\n",
        "for i in sorted_words:\n",
        "  col.append(i)\n",
        "  n += 1\n",
        "  if n == 10:\n",
        "    break"
      ],
      "metadata": {
        "id": "Tf8RDRWPyeZg"
      },
      "execution_count": 28,
      "outputs": []
    },
    {
      "cell_type": "code",
      "source": [
        "col"
      ],
      "metadata": {
        "colab": {
          "base_uri": "https://localhost:8080/"
        },
        "id": "mJ_Qq4_iyow8",
        "outputId": "320f089e-a7a1-47ab-ad37-a62adaa86416"
      },
      "execution_count": 29,
      "outputs": [
        {
          "output_type": "execute_result",
          "data": {
            "text/plain": [
              "['дискомфорт',\n",
              " 'слабость',\n",
              " 'предъявлять',\n",
              " 'нос',\n",
              " 'горло',\n",
              " 'сустав',\n",
              " 'кашель',\n",
              " 'выделение',\n",
              " 'заложенность',\n",
              " 'головной']"
            ]
          },
          "metadata": {},
          "execution_count": 29
        }
      ]
    },
    {
      "cell_type": "code",
      "source": [
        "for i in col:\n",
        "  df[i] = [0] * df.shape[0]"
      ],
      "metadata": {
        "id": "DQaRLDyZuYTI"
      },
      "execution_count": 30,
      "outputs": []
    },
    {
      "cell_type": "code",
      "source": [
        "for i in range(len(df['Жалобы'])):\n",
        "    norm = norma(df['Жалобы'][i])\n",
        "    for j in col:\n",
        "        if j in norm:\n",
        "          df[j][i] = 1"
      ],
      "metadata": {
        "id": "5EvipToJ__z0",
        "colab": {
          "base_uri": "https://localhost:8080/"
        },
        "outputId": "c9724a1b-82d6-4407-d90f-f781d55b8c9e"
      },
      "execution_count": 31,
      "outputs": [
        {
          "output_type": "stream",
          "name": "stderr",
          "text": [
            "<ipython-input-31-d63d9ea85883>:5: SettingWithCopyWarning: \n",
            "A value is trying to be set on a copy of a slice from a DataFrame\n",
            "\n",
            "See the caveats in the documentation: https://pandas.pydata.org/pandas-docs/stable/user_guide/indexing.html#returning-a-view-versus-a-copy\n",
            "  df[j][i] = 1\n"
          ]
        }
      ]
    },
    {
      "cell_type": "code",
      "source": [
        "df.to_csv('new_data.csv', index=False)"
      ],
      "metadata": {
        "id": "LGjqXWBj1xbK"
      },
      "execution_count": 32,
      "outputs": []
    },
    {
      "cell_type": "code",
      "source": [],
      "metadata": {
        "id": "o2LecVxv4DhK"
      },
      "execution_count": null,
      "outputs": []
    }
  ]
}